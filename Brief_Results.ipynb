{
 "cells": [
  {
   "cell_type": "markdown",
   "metadata": {},
   "source": [
    "# Semantic segmentation and depth estimation with hardware restricted FCNs in TensorFlow"
   ]
  },
  {
   "cell_type": "markdown",
   "metadata": {},
   "source": [
    "Dense prediction tasks like semantic segmentation and depth estimation based on monocular\n",
    "images are challenging fields of research. Here we evaluate different deep learning models\n",
    "for real-world scene understanding for autonomous driving under the constraint of limited\n",
    "hardware."
   ]
  },
  {
   "cell_type": "markdown",
   "metadata": {},
   "source": [
    "## What are we going to do?"
   ]
  },
  {
   "cell_type": "markdown",
   "metadata": {},
   "source": [
    "<> Build different CNNs in Tensorflow based on pretrained backbone models (IncResnet V2 and NASnet-Mobile)."
   ]
  },
  {
   "cell_type": "markdown",
   "metadata": {},
   "source": [
    "<> Evaluate semantic segmentation and depth estimation models as single task and as multi-task-learning topologies."
   ]
  },
  {
   "cell_type": "markdown",
   "metadata": {},
   "source": [
    "<> Compare our models to the current state-of-the-art with a sweet surprise"
   ]
  },
  {
   "cell_type": "markdown",
   "metadata": {},
   "source": [
    "<> Do everything with relation to autonomous driving (Cityscapes-benchmark suite and limited hardware)"
   ]
  },
  {
   "cell_type": "markdown",
   "metadata": {},
   "source": [
    "<> Give a baseline frame for everyone that doesn't own a high-end PC and still wants usable results"
   ]
  },
  {
   "cell_type": "markdown",
   "metadata": {},
   "source": [
    "<img src=\"images/Cityscapes_Inference.png\" /> "
   ]
  },
  {
   "cell_type": "markdown",
   "metadata": {},
   "source": [
    "<img src=\"images/Cityscapes_Inference_D.png\" /> "
   ]
  },
  {
   "cell_type": "markdown",
   "metadata": {},
   "source": [
    "## Requirements"
   ]
  },
  {
   "cell_type": "markdown",
   "metadata": {},
   "source": [
    "<> TensorFlow v. 1.4+ with python 3.x.x and GPU-support + installed [TF-Slim](https://github.com/tensorflow/models/tree/master/research/slim)"
   ]
  },
  {
   "cell_type": "markdown",
   "metadata": {},
   "source": [
    "<> 16 Gb RAM and at least a 4 Gb RAM GPU like the NVIDIA 1050 Ti"
   ]
  },
  {
   "cell_type": "markdown",
   "metadata": {},
   "source": [
    "<> Some background on TensorFlow and ConvNets (+ if you want to rebuild it, access to [Cityscapes](https://www.cityscapes-dataset.com/)"
   ]
  },
  {
   "cell_type": "markdown",
   "metadata": {},
   "source": [
    "## Models"
   ]
  },
  {
   "cell_type": "markdown",
   "metadata": {},
   "source": [
    "To get the basic idea of transfer-learning and dense-prediction tasks we evaluate 6 different Models. "
   ]
  },
  {
   "cell_type": "markdown",
   "metadata": {},
   "source": [
    "NASnet Mobile and Inception ResNet V2 as pretrained backbones\n",
    "Either of them trained as:\n",
    "* \"single task semantic\" (SS)\n",
    "* \"single task semantic with multiple endpoints\" (SM)\n",
    "* \"multi-task depth and semantic\" (MT)\n",
    "with their default input image size of 224 / 299 pixels."
   ]
  },
  {
   "cell_type": "markdown",
   "metadata": {},
   "source": [
    "Below is a heavily compressed overview of the respective model structures."
   ]
  },
  {
   "cell_type": "markdown",
   "metadata": {},
   "source": [
    "### Basic structure\n",
    "<img src=\"images/General_Structure.png\" /> \n",
    "### CME\n",
    "<img src=\"images/CME.png\" />\n",
    "\n",
    "### SS\n",
    "<img src=\"images/SS.png\" /> \n",
    "### SM\n",
    "<img src=\"images/SM.png\" /> \n",
    "### MT\n",
    "<img src=\"images/MT.png\" />\n",
    "### Legend\n",
    "<img src=\"images/Legend.png\" /> "
   ]
  },
  {
   "cell_type": "markdown",
   "metadata": {},
   "source": [
    "The given implementations in the \"Networks\"-Folder require 4 Gbyte as for the NASnet models and 6 Gbyte graphic card RAM for the IncRes models."
   ]
  },
  {
   "cell_type": "markdown",
   "metadata": {},
   "source": [
    "## Topology informations"
   ]
  },
  {
   "cell_type": "markdown",
   "metadata": {},
   "source": [
    "Training procedure: initial learn-rate: 1e-4 (polynomial decay in 75% training time to 1e-5) over 75 epochs on the 22,975 images spanning coarse dataset, 150 epochs \"fine tuning\" (initial LR 1e-4, polynomial decay in 75% training time to 1e-6) on the 2,975 images fine annoted dataset. Batch-size is 6 for all training phases. No use of gradient aggregation. Evaluation result mIoU (mean intersection over union) is based on the 500 images validation dataset and the official [evaluation script](https://github.com/mcordts/cityscapesScripts)."
   ]
  },
  {
   "cell_type": "markdown",
   "metadata": {},
   "source": [
    "<img src=\"images/Training_Information.PNG\" /> "
   ]
  },
  {
   "cell_type": "markdown",
   "metadata": {},
   "source": [
    "To evaluate the importance of the input image size further, we increased the sizes for two models. Due to the limited hardware gradient aggregation is used for the Inception ResNet model."
   ]
  },
  {
   "cell_type": "markdown",
   "metadata": {},
   "source": [
    "<img src=\"images/Increased_Input.PNG\" /> "
   ]
  },
  {
   "cell_type": "markdown",
   "metadata": {},
   "source": [
    "## Comparision with State-of-the-Art"
   ]
  },
  {
   "cell_type": "markdown",
   "metadata": {},
   "source": [
    "Compared to the current [boardleader](http://research.mapillary.com/publications/arXive17.html) our best model scores surprisingly good (for 1/8 of the limiting gRAM). Categories present in the radar-chart are official categories of the Cityscapes-benchmark. \n",
    "\n",
    "* around 3 percent difference in category flat\n",
    "* around 15 percent difference in categories: construction, vehicle, sky, nature\n",
    "* factor 2..3 in categories human and object"
   ]
  },
  {
   "cell_type": "markdown",
   "metadata": {},
   "source": [
    "<img src=\"images/Comparison_Boardleader.png\" /> "
   ]
  },
  {
   "cell_type": "markdown",
   "metadata": {},
   "source": [
    "## Detailed hardware relevant model description"
   ]
  },
  {
   "cell_type": "markdown",
   "metadata": {},
   "source": [
    "Since deployment and use on mobile platforms is heavily bound by the computational power of the device, it is usefull to have a basic idea of the floating point operations (FLOPs, FP) and model parameters (PAR) needed. All numbers given are valid for the trained models during \"productive\" inference. BS = Batch-Size, t = average time per image (includes fetching and resizing)"
   ]
  },
  {
   "cell_type": "markdown",
   "metadata": {},
   "source": [
    "### Backbone overview\n",
    "<img src=\"images/Backbone_params.PNG\" /> \n",
    "\n",
    "### FCN-Extension overview\n",
    "<img src=\"images/Model_params.PNG\" />"
   ]
  }
 ],
 "metadata": {
  "kernelspec": {
   "display_name": "Python 3",
   "language": "python",
   "name": "python3"
  },
  "language_info": {
   "codemirror_mode": {
    "name": "ipython",
    "version": 3
   },
   "file_extension": ".py",
   "mimetype": "text/x-python",
   "name": "python",
   "nbconvert_exporter": "python",
   "pygments_lexer": "ipython3",
   "version": "3.6.4"
  }
 },
 "nbformat": 4,
 "nbformat_minor": 2
}
